{
  "nbformat": 4,
  "nbformat_minor": 0,
  "metadata": {
    "colab": {
      "provenance": [],
      "authorship_tag": "ABX9TyOLOgxM2bCoOVJ6LQC9IOJi",
      "include_colab_link": true
    },
    "kernelspec": {
      "name": "python3",
      "display_name": "Python 3"
    },
    "language_info": {
      "name": "python"
    }
  },
  "cells": [
    {
      "cell_type": "markdown",
      "metadata": {
        "id": "view-in-github",
        "colab_type": "text"
      },
      "source": [
        "<a href=\"https://colab.research.google.com/github/dineshdinz12/Machine_learning/blob/main/Oil_Well_Pump.ipynb\" target=\"_parent\"><img src=\"https://colab.research.google.com/assets/colab-badge.svg\" alt=\"Open In Colab\"/></a>"
      ]
    },
    {
      "cell_type": "code",
      "execution_count": null,
      "metadata": {
        "id": "Ih2hY-Vm-QnT"
      },
      "outputs": [],
      "source": [
        "import pandas as pd\n",
        "import numpy as np\n",
        "from sklearn.model_selection import train_test_split\n",
        "from sklearn.preprocessing import StandardScaler\n",
        "from sklearn.ensemble import RandomForestClassifier\n",
        "from sklearn.metrics import classification_report, confusion_matrix\n",
        "import matplotlib.pyplot as plt\n",
        "import seaborn as sns"
      ]
    },
    {
      "cell_type": "code",
      "source": [
        "np.random.seed(42)\n",
        "n_samples = 1000\n",
        "\n",
        "data = pd.DataFrame({\n",
        "    'pump_speed': np.random.uniform(10, 20, n_samples),\n",
        "    'motor_current': np.random.uniform(20, 50, n_samples),\n",
        "    'vibration': np.random.uniform(0.1, 2.0, n_samples),\n",
        "    'production_rate': np.random.uniform(100, 500, n_samples),\n",
        "    'motor_temperature': np.random.uniform(50, 100, n_samples),\n",
        "    'days_since_maintenance': np.random.randint(0, 365, n_samples)\n",
        "})\n",
        "\n",
        "\n",
        "data['maintenance_needed'] = (\n",
        "    (data['vibration'] > 1.5) |\n",
        "    (data['motor_current'] > 45) |\n",
        "    (data['motor_temperature'] > 90) |\n",
        "    (data['days_since_maintenance'] > 300)\n",
        ").astype(int)\n",
        "\n",
        "\n",
        "X = data.drop('maintenance_needed', axis=1)\n",
        "y = data['maintenance_needed']"
      ],
      "metadata": {
        "id": "yHdGewnB-WGn"
      },
      "execution_count": null,
      "outputs": []
    },
    {
      "cell_type": "code",
      "source": [
        "X_train, X_test, y_train, y_test = train_test_split(X, y, test_size=0.5, random_state=42)\n",
        "\n",
        "\n",
        "scaler = StandardScaler()\n",
        "X_train_scaled = scaler.fit_transform(X_train)\n",
        "X_test_scaled = scaler.transform(X_test)\n",
        "\n",
        "rf_model = RandomForestClassifier(n_estimators=100, random_state=42)\n",
        "rf_model.fit(X_train_scaled, y_train)\n",
        "\n",
        "\n",
        "y_pred = rf_model.predict(X_test_scaled)\n",
        "\n",
        "\n",
        "print(\"Classification Report:\")\n",
        "print(classification_report(y_test, y_pred))\n",
        "\n",
        "\n",
        "cm = confusion_matrix(y_test, y_pred)\n",
        "\n",
        "plt.show()"
      ],
      "metadata": {
        "colab": {
          "base_uri": "https://localhost:8080/"
        },
        "id": "F4oYarVN-j5p",
        "outputId": "92b77ab2-2992-4f89-9bd2-8fcc2d01c8ca"
      },
      "execution_count": null,
      "outputs": [
        {
          "output_type": "stream",
          "name": "stdout",
          "text": [
            "Classification Report:\n",
            "              precision    recall  f1-score   support\n",
            "\n",
            "           0       1.00      0.98      0.99       213\n",
            "           1       0.99      1.00      0.99       287\n",
            "\n",
            "    accuracy                           0.99       500\n",
            "   macro avg       0.99      0.99      0.99       500\n",
            "weighted avg       0.99      0.99      0.99       500\n",
            "\n"
          ]
        }
      ]
    },
    {
      "cell_type": "code",
      "source": [
        "\n",
        "def predict_maintenance(new_data):\n",
        "    new_data_scaled = scaler.transform(new_data)\n",
        "    prediction = rf_model.predict(new_data_scaled)\n",
        "    probability = rf_model.predict_proba(new_data_scaled)[:, 1]\n",
        "    return prediction, probability\n",
        "\n",
        "\n",
        "new_pump_data = pd.DataFrame({\n",
        "    'pump_speed': [15],\n",
        "    'motor_current': [45],\n",
        "    'vibration': [1.2],\n",
        "    'production_rate': [300],\n",
        "    'motor_temperature': [80],\n",
        "    'days_since_maintenance': [325]\n",
        "})\n",
        "\n",
        "prediction, probability = predict_maintenance(new_pump_data)\n",
        "print(\"\\nNew Pump Data:\")\n",
        "print(new_pump_data)\n",
        "print(f\"Maintenance Needed: {'Yes' if prediction[0] == 1 else 'No'}\")\n",
        "print(f\"Probability of Needing Maintenance: {probability[0]:.2f}\")"
      ],
      "metadata": {
        "colab": {
          "base_uri": "https://localhost:8080/"
        },
        "id": "v837lLNa-qco",
        "outputId": "aca759d8-bc69-4104-ebaf-90c95147de97"
      },
      "execution_count": null,
      "outputs": [
        {
          "output_type": "stream",
          "name": "stdout",
          "text": [
            "\n",
            "New Pump Data:\n",
            "   pump_speed  motor_current  vibration  production_rate  motor_temperature  \\\n",
            "0          15             45        1.2              300                 80   \n",
            "\n",
            "   days_since_maintenance  \n",
            "0                     325  \n",
            "Maintenance Needed: Yes\n",
            "Probability of Needing Maintenance: 0.95\n"
          ]
        }
      ]
    },
    {
      "cell_type": "code",
      "source": [],
      "metadata": {
        "id": "vU3Qoya3-4VG"
      },
      "execution_count": null,
      "outputs": []
    }
  ]
}